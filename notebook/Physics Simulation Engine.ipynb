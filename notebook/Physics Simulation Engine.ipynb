{
 "cells": [
  {
   "cell_type": "markdown",
   "id": "8179c662",
   "metadata": {},
   "source": [
    "# Physics simulation engine\n",
    "\n",
    "### Introduction\n",
    "\n",
    "A Physics engine is a piece of software, used in computer games, science and engineering. Its main responsibility is to provide api and tooling, for simulating realistic physical interactions between graphical objects. The major players in the professional game engine market are Unity and Ureal Engine, both provide complex physics engines for more realistic game experience.\n",
    "\n",
    "**In the following project we are going to build a simplified physics engine. The scope of the project is going to be limited to the following list of major requirements:**\n",
    "* We need to be able to visualize simple 3d shapes like cubes, spheres\n",
    "* We need to be able to visualize simple 2d shapes like lines, squares and triangles in 3d space \n",
    "* We need to be able to move these primitives in 3d space and rotate them\n",
    "* It will be nice to have a movable camera for better experiments observation\n",
    "* It will be nice to have a grid of lines, which are going to make our ground visible\n",
    "* It will be usefull to be able to display some text\n",
    "* Showing textures, can be usefull as well\n",
    "* We need to implement basic Newtonian mechanics with forces as vectors acting on particles\n",
    "* We need to add collision detection, which should take into account momentum and the law of conservation of momentum\n",
    "* Also it will be nice to take into account colission with ground and resting contacts\n",
    "* To make our object more realistic we can also add some lightning\n"
   ]
  },
  {
   "cell_type": "markdown",
   "id": "815307fb",
   "metadata": {},
   "source": [
    "### Tech stack\n",
    "This project is developed using the Python programing language. There are not so many options for 3d visualization in Python, so we are going to use PyOpenGL. This library is port of the popular OpenGL framework. For math operations, especially with matrices, we are going to use NumPmy. To be able to bootstrap an OpenGL application, we need to have a window in which the drawing operations are going to be displayed. For providing such a windows and for handling user input we are going to use PyGame. It is the obvious choice to bootstrap OpenGL application in python.\n",
    "\n",
    "Summarized out tech stack is the following: \n",
    "* PyOpenGL\n",
    "* PyGame\n",
    "* NumPy\n"
   ]
  },
  {
   "cell_type": "markdown",
   "id": "b318ce44",
   "metadata": {},
   "source": [
    "### OpenGL overview\n",
    "OpenGL (Open Graphics Library) is a cross-language, multi-platform application programming interface (API) for rendering 2D and 3D vector graphics. The API is typically used to interact with a graphics processing unit (GPU), to achieve hardware-accelerated rendering.\n",
    "\n",
    "The core of OpenGL is the graphics pipeline - an abstract model that describes a sequence of steps\n",
    "needed to render a three-dimensional scene. This model is a complex set of steps, some of which allow the programmer to plug small programs called shaders. They are written in a C - like language called GLSL (OpenGL Shading Language). "
   ]
  },
  {
   "cell_type": "code",
   "execution_count": null,
   "id": "e72b6d58",
   "metadata": {},
   "outputs": [],
   "source": []
  }
 ],
 "metadata": {
  "kernelspec": {
   "display_name": "Python 3 (ipykernel)",
   "language": "python",
   "name": "python3"
  },
  "language_info": {
   "codemirror_mode": {
    "name": "ipython",
    "version": 3
   },
   "file_extension": ".py",
   "mimetype": "text/x-python",
   "name": "python",
   "nbconvert_exporter": "python",
   "pygments_lexer": "ipython3",
   "version": "3.9.13"
  }
 },
 "nbformat": 4,
 "nbformat_minor": 5
}
